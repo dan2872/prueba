{
  "cells": [
    {
      "cell_type": "markdown",
      "metadata": {
        "id": "UsH0KPoRQkXi"
      },
      "source": [
        "# BIENVENIDO AL CURSO DE COMPUTACION\n",
        "\n",
        "**En la primera unidad aprenderas sobre los siguientes temas**\n",
        "\n",
        "- Entrada y salida de datos\n",
        "- Asignacion y uso de variables \n",
        "\n"
      ]
    },
    {
      "cell_type": "markdown",
      "metadata": {
        "id": "nSX-MBzQTdhV"
      },
      "source": [
        "Lo primero que necesitamos para asignar una variable es seleccionar un nombre para la misma.\n",
        "\n",
        "Es importante considerar un nombre significativo ya que esto ayudara con el desarrollo de nuestros programas. \n",
        "\n",
        "Las convenciones para nombrar variables son las siguientes:\n",
        "\n",
        "*   Inician con una letra \n",
        "*   No se permiten espacios\n",
        "*   No se permiten caracteres especiales\n",
        "\n",
        "Los siguientes ejemplos son ejemplos de nombres de variables incorrectos\n",
        "\n",
        "*   1variable -> No inicia con una letra\n",
        "*   super variable -> Son dos palabras\n",
        "*   v@riable -> Tiene caracteres especiales\n",
        "\n",
        "Los siguientes son ejemplos de nombres de variables validos\n",
        "\n",
        "*   variable\n",
        "*   variable1\n",
        "*   variableUno\n",
        "*   variable_1\n",
        "*   unaVariableConUnNombreMuyLargo \n",
        "*   otra_variable_con_un_nombre_muy_largo\n",
        "\n",
        "Es MUY IMPORTANTE recordar que las variables son sensibles a mayusculas y minusculas. \n",
        "\n",
        "Revisa las siguientes celda para aprender como asignar valores a variables "
      ]
    },
    {
      "cell_type": "code",
      "execution_count": 2,
      "metadata": {
        "id": "MfPcl8asQega"
      },
      "outputs": [],
      "source": [
        "\"\"\"\n",
        "Esto es un comentario, forma parte del codigo de un programa pero no se ejecuta \n",
        "su funcion es solo servir como referencia.\n",
        "\n",
        "Para que un comentario sea considerado un comentario tienen que encontrarse entre\n",
        "3 pares de comillas\n",
        "\n",
        "Ejectura la celda haciendo clic en la fecha para asignar el valor 1 a la variable_1\n",
        "\"\"\"\n",
        "variable_1 = 1"
      ]
    },
    {
      "cell_type": "markdown",
      "metadata": {
        "id": "0gdzM6KFaMrW"
      },
      "source": [
        "¿Que sucedio cuando ejecutaste la celda? \n",
        "\n",
        "Respuesta rapida: Nada \n",
        "\n",
        "Respuesta correcta: la \"variable_1\" ahora tiene el valor de 1, \n",
        "pero no podemos verlo porque no ejecutamos ninguna accion para ver el valor de la variable. "
      ]
    },
    {
      "cell_type": "code",
      "execution_count": null,
      "metadata": {
        "colab": {
          "base_uri": "https://localhost:8080/"
        },
        "id": "Mh_ySnuTbEyV",
        "outputId": "872f4aea-8e86-4fdd-ec0e-7aae7238a225"
      },
      "outputs": [
        {
          "name": "stdout",
          "output_type": "stream",
          "text": [
            "1\n"
          ]
        }
      ],
      "source": [
        "\"\"\"\n",
        "Para ver el valor de la variable usaremos una funcion llamada print, \n",
        "la que nos permite ver el contenido de una variable\n",
        "\n",
        "Para usar print solo escribimos print(variable)\n",
        "\n",
        "Ejecuta la celda para verla en accion \n",
        "\"\"\"\n",
        "\n",
        "print(variable_1)\n"
      ]
    },
    {
      "cell_type": "markdown",
      "metadata": {
        "id": "Il7YDv4cbyVo"
      },
      "source": [
        "El valor de una variable puede ser modificado, supongamos que queremos sumar 10 al valor de la variable_1\n"
      ]
    },
    {
      "cell_type": "code",
      "execution_count": 5,
      "metadata": {
        "colab": {
          "base_uri": "https://localhost:8080/"
        },
        "id": "g2wLtHxSceWW",
        "outputId": "840dac7c-4f63-4e15-82db-ae0823a3dcce"
      },
      "outputs": [
        {
          "name": "stdout",
          "output_type": "stream",
          "text": [
            "1\n"
          ]
        }
      ],
      "source": [
        "\"\"\"\n",
        "Primer intento\n",
        "\n",
        "Sumar 10 al valor de variable_1\n",
        "\"\"\"\n",
        "\n",
        "#Esta es una forma de poner comentarios solo de una linea \n",
        "\n",
        "# Escribimos la variable, el simbolo de suma y la cantidad que queremos sumarle \n",
        "variable_1 + 111\n",
        "# Mostramos el valor de la variable_1\n",
        "print(variable_1)"
      ]
    },
    {
      "cell_type": "markdown",
      "metadata": {
        "id": "XF2HPq3LdPkR"
      },
      "source": [
        "Nuestro primer intento fracaso, y la razon es que para cambiar el valor de una variable necesitamos declararla nuevamente."
      ]
    },
    {
      "cell_type": "code",
      "execution_count": 7,
      "metadata": {
        "colab": {
          "base_uri": "https://localhost:8080/"
        },
        "id": "z3M_SsCOdjwi",
        "outputId": "e7b7788c-e47e-45fd-e563-92e8ccd4d8d6"
      },
      "outputs": [
        {
          "name": "stdout",
          "output_type": "stream",
          "text": [
            "-1130\n"
          ]
        }
      ],
      "source": [
        "\"\"\"\n",
        "Segundo intento\n",
        "\n",
        "Sumar 10 al valor de variable_1\n",
        "\"\"\"\n",
        "\n",
        "# Hacemos lo mismo que antes pero primero declaramos nuevamemte la variable usando el nombre de la variable y el signo \" = \"\n",
        "\n",
        "variable_1 = variable_1 - 1121\n",
        "\n",
        "# Verificamos el valor de la variable_1\n",
        "\n",
        "print(variable_1)"
      ]
    },
    {
      "cell_type": "markdown",
      "metadata": {
        "id": "XzlPSuJ7eNLb"
      },
      "source": [
        "Hasta el momento hemos creado, modificado y revisado el valor de una variable. \n",
        "\n",
        "Sin emabrgo un programa puede ser mucho mas dinamico, para esto hagamos un programa que sume dos numeros proporcionados por el usuario. "
      ]
    },
    {
      "cell_type": "code",
      "execution_count": null,
      "metadata": {
        "colab": {
          "base_uri": "https://localhost:8080/"
        },
        "id": "zHYKW003ghHr",
        "outputId": "acbb89ee-409e-4645-c034-bb95fb1a0a32"
      },
      "outputs": [
        {
          "name": "stdout",
          "output_type": "stream",
          "text": [
            "Ingresa el primer numero 12\n",
            "Ingresa el segundo numero 233\n",
            "La suma de 12 y 233 es 245\n"
          ]
        }
      ],
      "source": [
        "\"\"\"\n",
        "El funcionamiento de este programa se explica parcialemente en los comentarios y a detalle en las celdas siguentes\n",
        "\"\"\"\n",
        "# Necesitamos preguntar al usuario que numeros quiere sumar para eso usamos la funcion input()\n",
        "# La funcion input permite al usuario ingresar informacion pero genera texto\n",
        "# Para convertir el texto en numeros usamos la funcion int()\n",
        "\n",
        "# Por lo anterior colocamos la funcion input dentro de la funcion int\n",
        "\n",
        "numeroUno = int(input(\"Ingresa el primer numero \"))\n",
        "numeroDos = int(input(\"Ingresa el segundo numero \"))\n",
        "\n",
        "# Para mostrar el resultado usamos la funcion print, al usar \" , \" podemos hacer que muestre multiples cosas simultaneamente \n",
        "\n",
        "print(\"La suma de\", numeroUno, \"y\", numeroDos, \"es\", numeroUno + numeroDos)"
      ]
    },
    {
      "cell_type": "markdown",
      "metadata": {
        "id": "e7mQzVYMgfxy"
      },
      "source": [
        "Es probable que el programa anterior te dejara con mas dudas que soluciones, por eso revisemos a detalle su funcionamiento y los elementos nuevos del mismo.\n",
        "\n",
        "1. La funcion input() permite al usuario ingresar informacion en el programa, para usarla simplemente escribimos input(\"\"), colocando entre los parentesis y entre comillas el mensaje que leera el usuario. Es IMPORTANTE RECORDAR que para que la iformacion pueda ser utilizada es necesario asignarla a una variable. \n",
        "```\n",
        "variable = input(\"La informacion que leera el usuario\") \n",
        "```\n",
        "2. Podemos colocar una funcion dentro de una funcion, tal como hicimos en el \n",
        "caso de int e input, obteniendo algo asi:\n",
        "```\n",
        "int(input( ))\n",
        "```\n",
        "3. Existen diferentes tipos de datos. Podemos diferenciar dos grandes grupos numeros y texto. Para asignar un valor como numero simplemente escribimos el numero, para asignar un valor como texto necesitamos escribir el valor entre comillas. \n",
        "```\n",
        "variableUno = 1\n",
        "variableDos = \"1\"\n",
        "```\n"
      ]
    },
    {
      "cell_type": "markdown",
      "metadata": {
        "id": "6SAEaLADnsZX"
      },
      "source": [
        "Para revisar los elementos anteriores realiza los siguientes ejercicios:"
      ]
    },
    {
      "cell_type": "code",
      "execution_count": null,
      "metadata": {
        "colab": {
          "base_uri": "https://localhost:8080/"
        },
        "id": "aJTqjay3n4aN",
        "outputId": "b1880fa1-beba-4447-de17-f003bc1488d5"
      },
      "outputs": [
        {
          "name": "stdout",
          "output_type": "stream",
          "text": [
            "La suma de 1 + 2 es 12\n",
            "La suma de 1 + 2 es 3\n"
          ]
        }
      ],
      "source": [
        "\"\"\"\n",
        "Ejercicio 1\n",
        "ENCUENTRA EL ERROR EN EL CODIGO\n",
        "\n",
        "El siguiente programa debe de sumar 1 mas 2 y proporcionar el resultado al usuario, el problema es que el resultado del programa es 12 y no 3\n",
        "\n",
        "TIP: Recuerda que las variables pueden contener informacion como texto o numeros\n",
        "\"\"\"\n",
        "\n",
        "uno = \"1\"\n",
        "dos = \"2\"\n",
        "\n",
        "print(\"La suma de 1 + 2 es\", uno + dos)\n",
        "\n",
        "unoc = 1\n",
        "dosc = 2\n",
        "print(\"La suma de 1 + 2 es\", unoc + dosc)"
      ]
    },
    {
      "cell_type": "code",
      "execution_count": null,
      "metadata": {
        "colab": {
          "base_uri": "https://localhost:8080/"
        },
        "id": "cI3LFSwRqqws",
        "outputId": "e733eb13-4f88-4dcc-b6f3-f6888a9d76a3"
      },
      "outputs": [
        {
          "name": "stdout",
          "output_type": "stream",
          "text": [
            "¿Cual es tu nombre? Daniel\n",
            "Hola  Daniel\n"
          ]
        }
      ],
      "source": [
        "\"\"\"\n",
        "Ejercicio 2 \n",
        "ENCUENTRA EL ERROR EN EL CODIGO\n",
        "\n",
        "El siguiente programa debe de preguntar por el nombre del usuario y saludarlo, el problema es que no muestra el nombre del usuario. \n",
        "\n",
        "TIP: Recuerda que las variables no se escriben entre comillas \n",
        "\"\"\"\n",
        "\n",
        "nombre = input(\"¿Cual es tu nombre? \")\n",
        "print(\"Hola \", nombre)"
      ]
    },
    {
      "cell_type": "code",
      "execution_count": null,
      "metadata": {
        "colab": {
          "base_uri": "https://localhost:8080/"
        },
        "id": "f3l8YwzFrswy",
        "outputId": "a31a3d16-d522-41ad-c849-bc1eedadb07d"
      },
      "outputs": [
        {
          "name": "stdout",
          "output_type": "stream",
          "text": [
            "¿Que numero quieres elevar al cuadrado? 3\n",
            "El cuadrado de 3 es 9\n"
          ]
        }
      ],
      "source": [
        "\"\"\"\n",
        "Ejercicio 3\n",
        "ENCUENTRA EL ERROR EN EL CODIGO\n",
        "\n",
        "El siguiente programa debe de calcular el cuadrado de un numero proporcionado por el usuario, el problema es que al ejectutarlo muestra un error.\n",
        "\n",
        "TIP: Recuerda que la funcion input genera texto\n",
        "TIP2: Para convertir texto en numeros puedes usar int()\n",
        "\"\"\"\n",
        "\n",
        "numero = int(input(\"¿Que numero quieres elevar al cuadrado? \"))\n",
        "print(\"El cuadrado de\", numero, \"es\", numero * numero)"
      ]
    },
    {
      "cell_type": "code",
      "execution_count": null,
      "metadata": {
        "colab": {
          "base_uri": "https://localhost:8080/"
        },
        "id": "0_KfsVffOKZJ",
        "outputId": "2b815f0d-26c4-43b4-e240-0aa51923e5a6"
      },
      "outputs": [
        {
          "name": "stdout",
          "output_type": "stream",
          "text": [
            "¿Que edad tienes?23\n",
            "Has vivido 8395 dias, 201480 horas, 12088800 minutos y 725328000 segundos.\n"
          ]
        }
      ],
      "source": [
        "\"\"\"\n",
        "Ejercicio 4\n",
        "ENCUENTRA LOS ERRORES EL EN CODIGO \n",
        "\n",
        "El siguiente programa pregunta la edad de una persona en años y le indica cuantos, dias, horas, minutos y segundos hay en ese tiempo\n",
        "\n",
        "\"\"\"\n",
        "\n",
        "EdadAños = int(input(\"¿Que edad tienes?\"))\n",
        "\n",
        "\n",
        "# El operador matematico para multiplicar es *\n",
        "\n",
        "edadDias = EdadAños * 365\n",
        "edadHoras = edadDias * 24\n",
        "edadMinutos = edadHoras * 60\n",
        "edadSegundos = edadMinutos * 60\n",
        "\n",
        "print(\"Has vivido\", edadDias,\"dias,\", edadHoras, \"horas,\", edadMinutos,\"minutos y\", edadSegundos, \"segundos.\")\n",
        "\n"
      ]
    },
    {
      "cell_type": "code",
      "execution_count": null,
      "metadata": {
        "colab": {
          "base_uri": "https://localhost:8080/"
        },
        "id": "sE9DRq4eQBh7",
        "outputId": "9dce75de-767f-477d-edf2-b3015211cc53"
      },
      "outputs": [
        {
          "name": "stdout",
          "output_type": "stream",
          "text": [
            "¿Cual es tu nombre? Daniel\n",
            "¿Cuantos años tienes ? 23\n",
            "Hola Daniel en tu proximo cumpleaños tendras 24\n"
          ]
        }
      ],
      "source": [
        "\"\"\"\n",
        "Ejercicio 5\n",
        "ENCUENTRA LOS ERRORES EN EL CODIGO\n",
        "\n",
        "El siguiente programa debe de preguntar el nombre y edad del usuario, posteriormente debe de saludarlo y calcular que edad tendra en su proximo cumpleaños\n",
        "\"\"\"\n",
        "\n",
        "nombre = input(\"¿Cual es tu nombre? \")\n",
        "edad = int(input(\"¿Cuantos años tienes ? \"))\n",
        "\n",
        "print(\"Hola\", nombre, \"en tu proximo cumpleaños tendras\", edad + 1)"
      ]
    },
    {
      "cell_type": "code",
      "execution_count": null,
      "metadata": {
        "colab": {
          "base_uri": "https://localhost:8080/"
        },
        "id": "e-HZZsq-eIsJ",
        "outputId": "83b866c4-2540-43cf-92ff-cb9f786a7efc"
      },
      "outputs": [
        {
          "name": "stdout",
          "output_type": "stream",
          "text": [
            "Indica el numero uno =11111\n",
            "Indica el numero dos =22222\n",
            "La suma del numero uno y el numero dos es 33333\n"
          ]
        }
      ],
      "source": [
        "\"\"\"\n",
        "Ejercicio 6\n",
        "ESCRIBE TU PROPIO PROGRAMA QUE PREGUNTE AL USUARIO DOS NUMEROS E INDIQUE LA SUMA DE AMBOS\n",
        "\n",
        "\"\"\"\n",
        "numero1 = int(input(\"Indica el numero uno =\"))\n",
        "numero2 = int(input(\"Indica el numero dos =\"))\n",
        "\n",
        "print(\"La suma del numero uno y el numero dos es\", numero1 + numero2)"
      ]
    }
  ],
  "metadata": {
    "colab": {
      "name": "Copia de UNIDAD_I_2021.ipynb",
      "provenance": []
    },
    "kernelspec": {
      "display_name": "Python 3",
      "name": "python3"
    },
    "language_info": {
      "codemirror_mode": {
        "name": "ipython",
        "version": 3
      },
      "file_extension": ".py",
      "mimetype": "text/x-python",
      "name": "python",
      "nbconvert_exporter": "python",
      "pygments_lexer": "ipython3",
      "version": "3.8.8"
    }
  },
  "nbformat": 4,
  "nbformat_minor": 0
}
